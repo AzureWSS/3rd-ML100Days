{
 "cells": [
  {
   "cell_type": "markdown",
   "metadata": {},
   "source": [
    "# 作業目標:\n",
    "    運用 Keras 模組建構CNN, 了解 CNN 的架構\n",
    "    \n",
    "    "
   ]
  },
  {
   "cell_type": "markdown",
   "metadata": {},
   "source": [
    "# 作業重點\n",
    "(1)嘗試比對 Dense 與 layers.Conv2D 架構NN 的差異\n",
    "\n",
    "(2) 有沒有Pooling layer, 對於參數量的差異\n",
    "\n",
    "注意: input_shape 請勿修改"
   ]
  },
  {
   "cell_type": "code",
   "execution_count": 1,
   "metadata": {
    "collapsed": false
   },
   "outputs": [
    {
     "name": "stderr",
     "output_type": "stream",
     "text": [
      "Using TensorFlow backend.\n",
      "C:\\Anaconda3\\lib\\site-packages\\pandas\\compat\\_optional.py:106: UserWarning: Pandas requires version '1.2.1' or newer of 'bottleneck' (version '1.2.0' currently installed).\n",
      "  warnings.warn(msg, UserWarning)\n"
     ]
    },
    {
     "name": "stdout",
     "output_type": "stream",
     "text": [
      "2.3.1\n"
     ]
    }
   ],
   "source": [
    "#導入相關模組\n",
    "import keras\n",
    "from keras import layers\n",
    "from keras import models\n",
    "from keras.models import Sequential\n",
    "from keras.layers import Conv2D, Activation, MaxPooling2D, Flatten, Dense\n",
    "\n",
    "#確認keras 版本\n",
    "print(keras.__version__)"
   ]
  },
  {
   "cell_type": "code",
   "execution_count": 2,
   "metadata": {
    "collapsed": false
   },
   "outputs": [
    {
     "name": "stdout",
     "output_type": "stream",
     "text": [
      "Model: \"sequential_1\"\n",
      "_________________________________________________________________\n",
      "Layer (type)                 Output Shape              Param #   \n",
      "=================================================================\n",
      "conv2d_1 (Conv2D)            (None, 26, 26, 32)        320       \n",
      "_________________________________________________________________\n",
      "max_pooling2d_1 (MaxPooling2 (None, 13, 13, 32)        0         \n",
      "_________________________________________________________________\n",
      "conv2d_2 (Conv2D)            (None, 11, 11, 25)        7225      \n",
      "_________________________________________________________________\n",
      "max_pooling2d_2 (MaxPooling2 (None, 5, 5, 25)          0         \n",
      "_________________________________________________________________\n",
      "flatten_1 (Flatten)          (None, 625)               0         \n",
      "_________________________________________________________________\n",
      "dense_1 (Dense)              (None, 100)               62600     \n",
      "_________________________________________________________________\n",
      "activation_1 (Activation)    (None, 100)               0         \n",
      "_________________________________________________________________\n",
      "dense_2 (Dense)              (None, 10)                1010      \n",
      "_________________________________________________________________\n",
      "activation_2 (Activation)    (None, 10)                0         \n",
      "=================================================================\n",
      "Total params: 71,155\n",
      "Trainable params: 71,155\n",
      "Non-trainable params: 0\n",
      "_________________________________________________________________\n"
     ]
    }
   ],
   "source": [
    "'''\n",
    "model = Sequential([\n",
    "    Dense(xxx),\n",
    "    Activation(xxx),\n",
    "    Dense(xxx),\n",
    "    Activation(xxx),\n",
    "])\n",
    "'''\n",
    "model = models.Sequential()\n",
    "\n",
    "model.add(layers.Conv2D(32, (3, 3), input_shape=(28, 28, 1)))\n",
    "\n",
    "#新增一池化層, 採用maxpooling\n",
    "model.add(MaxPooling2D(2,2))\n",
    "\n",
    "model.add(layers.Conv2D(25, (3, 3)))\n",
    "model.add(MaxPooling2D(2,2))\n",
    "\n",
    "#新增平坦層\n",
    "model.add(Flatten())\n",
    "\n",
    "#建立一個全連接層\n",
    "model.add(Dense(units=100))\n",
    "model.add(Activation('relu'))\n",
    "\n",
    "#建立一個輸出層, 並採用softmax\n",
    "model.add(Dense(units=10))\n",
    "model.add(Activation('softmax'))\n",
    "\n",
    "model.summary()"
   ]
  },
  {
   "cell_type": "markdown",
   "metadata": {},
   "source": [
    "# layers.Conv2D 模型, 用作比對\n",
    "\n",
    "![CNN_Model.png](attachment:CNN_Model.png)\n",
    "\n"
   ]
  },
  {
   "cell_type": "code",
   "execution_count": 3,
   "metadata": {
    "collapsed": false
   },
   "outputs": [
    {
     "name": "stdout",
     "output_type": "stream",
     "text": [
      "Model: \"sequential_2\"\n",
      "_________________________________________________________________\n",
      "Layer (type)                 Output Shape              Param #   \n",
      "=================================================================\n",
      "conv2d_3 (Conv2D)            (None, 26, 26, 32)        320       \n",
      "_________________________________________________________________\n",
      "conv2d_4 (Conv2D)            (None, 24, 24, 25)        7225      \n",
      "_________________________________________________________________\n",
      "dense_3 (Dense)              (None, 24, 24, 100)       2600      \n",
      "_________________________________________________________________\n",
      "activation_3 (Activation)    (None, 24, 24, 100)       0         \n",
      "_________________________________________________________________\n",
      "dense_4 (Dense)              (None, 24, 24, 10)        1010      \n",
      "_________________________________________________________________\n",
      "activation_4 (Activation)    (None, 24, 24, 10)        0         \n",
      "=================================================================\n",
      "Total params: 11,155\n",
      "Trainable params: 11,155\n",
      "Non-trainable params: 0\n",
      "_________________________________________________________________\n"
     ]
    }
   ],
   "source": [
    "'''\n",
    "#建立一個序列模型\n",
    "model = models.Sequential()\n",
    "#建立兩個卷績層, 32 個內核, 內核大小 3x3, \n",
    "#輸入影像大小 28x28x1\n",
    "\n",
    "#建立一個全連接層\n",
    "model.add(Dense(units=100))\n",
    "model.add(Activation('relu'))\n",
    "\n",
    "#建立一個輸出層, 並採用softmax\n",
    "model.add(Dense(units=10))\n",
    "model.add(Activation('softmax'))\n",
    "'''\n",
    "model2 = models.Sequential()\n",
    "\n",
    "model2.add(layers.Conv2D(32, (3, 3), input_shape=(28, 28, 1)))\n",
    "model2.add(layers.Conv2D(25, (3, 3)))\n",
    "\n",
    "#建立一個全連接層\n",
    "model2.add(Dense(units=100))\n",
    "model2.add(Activation('relu'))\n",
    "\n",
    "#建立一個輸出層, 並採用softmax\n",
    "model2.add(Dense(units=10))\n",
    "model2.add(Activation('softmax'))\n",
    "\n",
    "model2.summary()\n",
    "\n",
    "\n",
    "#model.summary()"
   ]
  },
  {
   "cell_type": "code",
   "execution_count": null,
   "metadata": {
    "collapsed": true
   },
   "outputs": [],
   "source": []
  }
 ],
 "metadata": {
  "kernelspec": {
   "display_name": "Python 3",
   "language": "python",
   "name": "python3"
  },
  "language_info": {
   "codemirror_mode": {
    "name": "ipython",
    "version": 3
   },
   "file_extension": ".py",
   "mimetype": "text/x-python",
   "name": "python",
   "nbconvert_exporter": "python",
   "pygments_lexer": "ipython3",
   "version": "3.6.0"
  }
 },
 "nbformat": 4,
 "nbformat_minor": 2
}
