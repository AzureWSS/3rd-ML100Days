{
 "cells": [
  {
   "cell_type": "markdown",
   "metadata": {},
   "source": [
    "# 檢視與處理 Outliers\n",
    "### 為何會有 outliers, 常見的 outlier 原因\n",
    "* 未知值，隨意填補 (約定俗成的代入)，如年齡常見 0,999\n",
    "* 可能的錯誤紀錄/手誤/系統性錯誤，如某本書在某筆訂單的銷售量 = 1000 本"
   ]
  },
  {
   "cell_type": "markdown",
   "metadata": {},
   "source": [
    "# [作業目標]\n",
    "- 依照下列提示與引導, 以幾種不同的方式, 檢視可能的離群值"
   ]
  },
  {
   "cell_type": "markdown",
   "metadata": {},
   "source": [
    "# [作業重點]\n",
    "- 從原始資料篩選可能的欄位, 看看那些欄位可能有離群值 (In[3], Out[3])\n",
    "- 繪製目標值累積密度函數(ECDF)的圖形, 和常態分布的累積密度函數對比, 以確認是否有離群值的情形 (In[6], Out[6], In[7], Out[7])"
   ]
  },
  {
   "cell_type": "code",
   "execution_count": 9,
   "metadata": {
    "collapsed": true
   },
   "outputs": [],
   "source": [
    "# Import 需要的套件\n",
    "import os\n",
    "import numpy as np\n",
    "import pandas as pd\n",
    "import matplotlib.pyplot as plt\n",
    "\n",
    "%matplotlib inline\n",
    "\n",
    "# 設定 data_path\n",
    "dir_data = '../../data'"
   ]
  },
  {
   "cell_type": "code",
   "execution_count": 10,
   "metadata": {
    "collapsed": false
   },
   "outputs": [
    {
     "name": "stdout",
     "output_type": "stream",
     "text": [
      "Path of read in data: ../../data\\application_train.csv\n"
     ]
    },
    {
     "data": {
      "text/html": [
       "<div>\n",
       "<table border=\"1\" class=\"dataframe\">\n",
       "  <thead>\n",
       "    <tr style=\"text-align: right;\">\n",
       "      <th></th>\n",
       "      <th>SK_ID_CURR</th>\n",
       "      <th>TARGET</th>\n",
       "      <th>NAME_CONTRACT_TYPE</th>\n",
       "      <th>CODE_GENDER</th>\n",
       "      <th>FLAG_OWN_CAR</th>\n",
       "      <th>FLAG_OWN_REALTY</th>\n",
       "      <th>CNT_CHILDREN</th>\n",
       "      <th>AMT_INCOME_TOTAL</th>\n",
       "      <th>AMT_CREDIT</th>\n",
       "      <th>AMT_ANNUITY</th>\n",
       "      <th>...</th>\n",
       "      <th>FLAG_DOCUMENT_18</th>\n",
       "      <th>FLAG_DOCUMENT_19</th>\n",
       "      <th>FLAG_DOCUMENT_20</th>\n",
       "      <th>FLAG_DOCUMENT_21</th>\n",
       "      <th>AMT_REQ_CREDIT_BUREAU_HOUR</th>\n",
       "      <th>AMT_REQ_CREDIT_BUREAU_DAY</th>\n",
       "      <th>AMT_REQ_CREDIT_BUREAU_WEEK</th>\n",
       "      <th>AMT_REQ_CREDIT_BUREAU_MON</th>\n",
       "      <th>AMT_REQ_CREDIT_BUREAU_QRT</th>\n",
       "      <th>AMT_REQ_CREDIT_BUREAU_YEAR</th>\n",
       "    </tr>\n",
       "  </thead>\n",
       "  <tbody>\n",
       "    <tr>\n",
       "      <th>0</th>\n",
       "      <td>100002</td>\n",
       "      <td>1</td>\n",
       "      <td>Cash loans</td>\n",
       "      <td>M</td>\n",
       "      <td>N</td>\n",
       "      <td>Y</td>\n",
       "      <td>0</td>\n",
       "      <td>202500.0</td>\n",
       "      <td>406597.5</td>\n",
       "      <td>24700.5</td>\n",
       "      <td>...</td>\n",
       "      <td>0</td>\n",
       "      <td>0</td>\n",
       "      <td>0</td>\n",
       "      <td>0</td>\n",
       "      <td>0.0</td>\n",
       "      <td>0.0</td>\n",
       "      <td>0.0</td>\n",
       "      <td>0.0</td>\n",
       "      <td>0.0</td>\n",
       "      <td>1.0</td>\n",
       "    </tr>\n",
       "    <tr>\n",
       "      <th>1</th>\n",
       "      <td>100003</td>\n",
       "      <td>0</td>\n",
       "      <td>Cash loans</td>\n",
       "      <td>F</td>\n",
       "      <td>N</td>\n",
       "      <td>N</td>\n",
       "      <td>0</td>\n",
       "      <td>270000.0</td>\n",
       "      <td>1293502.5</td>\n",
       "      <td>35698.5</td>\n",
       "      <td>...</td>\n",
       "      <td>0</td>\n",
       "      <td>0</td>\n",
       "      <td>0</td>\n",
       "      <td>0</td>\n",
       "      <td>0.0</td>\n",
       "      <td>0.0</td>\n",
       "      <td>0.0</td>\n",
       "      <td>0.0</td>\n",
       "      <td>0.0</td>\n",
       "      <td>0.0</td>\n",
       "    </tr>\n",
       "    <tr>\n",
       "      <th>2</th>\n",
       "      <td>100004</td>\n",
       "      <td>0</td>\n",
       "      <td>Revolving loans</td>\n",
       "      <td>M</td>\n",
       "      <td>Y</td>\n",
       "      <td>Y</td>\n",
       "      <td>0</td>\n",
       "      <td>67500.0</td>\n",
       "      <td>135000.0</td>\n",
       "      <td>6750.0</td>\n",
       "      <td>...</td>\n",
       "      <td>0</td>\n",
       "      <td>0</td>\n",
       "      <td>0</td>\n",
       "      <td>0</td>\n",
       "      <td>0.0</td>\n",
       "      <td>0.0</td>\n",
       "      <td>0.0</td>\n",
       "      <td>0.0</td>\n",
       "      <td>0.0</td>\n",
       "      <td>0.0</td>\n",
       "    </tr>\n",
       "    <tr>\n",
       "      <th>3</th>\n",
       "      <td>100006</td>\n",
       "      <td>0</td>\n",
       "      <td>Cash loans</td>\n",
       "      <td>F</td>\n",
       "      <td>N</td>\n",
       "      <td>Y</td>\n",
       "      <td>0</td>\n",
       "      <td>135000.0</td>\n",
       "      <td>312682.5</td>\n",
       "      <td>29686.5</td>\n",
       "      <td>...</td>\n",
       "      <td>0</td>\n",
       "      <td>0</td>\n",
       "      <td>0</td>\n",
       "      <td>0</td>\n",
       "      <td>NaN</td>\n",
       "      <td>NaN</td>\n",
       "      <td>NaN</td>\n",
       "      <td>NaN</td>\n",
       "      <td>NaN</td>\n",
       "      <td>NaN</td>\n",
       "    </tr>\n",
       "    <tr>\n",
       "      <th>4</th>\n",
       "      <td>100007</td>\n",
       "      <td>0</td>\n",
       "      <td>Cash loans</td>\n",
       "      <td>M</td>\n",
       "      <td>N</td>\n",
       "      <td>Y</td>\n",
       "      <td>0</td>\n",
       "      <td>121500.0</td>\n",
       "      <td>513000.0</td>\n",
       "      <td>21865.5</td>\n",
       "      <td>...</td>\n",
       "      <td>0</td>\n",
       "      <td>0</td>\n",
       "      <td>0</td>\n",
       "      <td>0</td>\n",
       "      <td>0.0</td>\n",
       "      <td>0.0</td>\n",
       "      <td>0.0</td>\n",
       "      <td>0.0</td>\n",
       "      <td>0.0</td>\n",
       "      <td>0.0</td>\n",
       "    </tr>\n",
       "  </tbody>\n",
       "</table>\n",
       "<p>5 rows × 122 columns</p>\n",
       "</div>"
      ],
      "text/plain": [
       "   SK_ID_CURR  TARGET NAME_CONTRACT_TYPE CODE_GENDER FLAG_OWN_CAR  \\\n",
       "0      100002       1         Cash loans           M            N   \n",
       "1      100003       0         Cash loans           F            N   \n",
       "2      100004       0    Revolving loans           M            Y   \n",
       "3      100006       0         Cash loans           F            N   \n",
       "4      100007       0         Cash loans           M            N   \n",
       "\n",
       "  FLAG_OWN_REALTY  CNT_CHILDREN  AMT_INCOME_TOTAL  AMT_CREDIT  AMT_ANNUITY  \\\n",
       "0               Y             0          202500.0    406597.5      24700.5   \n",
       "1               N             0          270000.0   1293502.5      35698.5   \n",
       "2               Y             0           67500.0    135000.0       6750.0   \n",
       "3               Y             0          135000.0    312682.5      29686.5   \n",
       "4               Y             0          121500.0    513000.0      21865.5   \n",
       "\n",
       "              ...              FLAG_DOCUMENT_18 FLAG_DOCUMENT_19  \\\n",
       "0             ...                             0                0   \n",
       "1             ...                             0                0   \n",
       "2             ...                             0                0   \n",
       "3             ...                             0                0   \n",
       "4             ...                             0                0   \n",
       "\n",
       "  FLAG_DOCUMENT_20 FLAG_DOCUMENT_21 AMT_REQ_CREDIT_BUREAU_HOUR  \\\n",
       "0                0                0                        0.0   \n",
       "1                0                0                        0.0   \n",
       "2                0                0                        0.0   \n",
       "3                0                0                        NaN   \n",
       "4                0                0                        0.0   \n",
       "\n",
       "  AMT_REQ_CREDIT_BUREAU_DAY  AMT_REQ_CREDIT_BUREAU_WEEK  \\\n",
       "0                       0.0                         0.0   \n",
       "1                       0.0                         0.0   \n",
       "2                       0.0                         0.0   \n",
       "3                       NaN                         NaN   \n",
       "4                       0.0                         0.0   \n",
       "\n",
       "   AMT_REQ_CREDIT_BUREAU_MON  AMT_REQ_CREDIT_BUREAU_QRT  \\\n",
       "0                        0.0                        0.0   \n",
       "1                        0.0                        0.0   \n",
       "2                        0.0                        0.0   \n",
       "3                        NaN                        NaN   \n",
       "4                        0.0                        0.0   \n",
       "\n",
       "   AMT_REQ_CREDIT_BUREAU_YEAR  \n",
       "0                         1.0  \n",
       "1                         0.0  \n",
       "2                         0.0  \n",
       "3                         NaN  \n",
       "4                         0.0  \n",
       "\n",
       "[5 rows x 122 columns]"
      ]
     },
     "execution_count": 10,
     "metadata": {},
     "output_type": "execute_result"
    }
   ],
   "source": [
    "f_app = os.path.join(dir_data, 'application_train.csv')\n",
    "print('Path of read in data: %s' % (f_app))\n",
    "app_train = pd.read_csv(f_app)\n",
    "app_train.head()"
   ]
  },
  {
   "cell_type": "markdown",
   "metadata": {},
   "source": [
    "## 請參考 HomeCredit_columns_description.csv 的欄位說明，觀察並列出三個你覺得可能有 outlier 的欄位並解釋可能的原因"
   ]
  },
  {
   "cell_type": "code",
   "execution_count": 83,
   "metadata": {
    "collapsed": false
   },
   "outputs": [
    {
     "name": "stdout",
     "output_type": "stream",
     "text": [
      "SK_ID_CURR             int64\n",
      "TARGET                 int64\n",
      "NAME_CONTRACT_TYPE    object\n",
      "CODE_GENDER           object\n",
      "FLAG_OWN_CAR          object\n",
      "dtype: object\n",
      "[False, False, False, False, False, False, False, False, False, False, False, False, False, False, False, False, False, False, False, False, False, False, False, False, False, False, False, False, False, False, False, False, False, False, False, False, False, False, False, False, False, False, False, False, False, False, False, False, False, False, False, False, False, False, False, False, False, False, False, False, False, False, False, False, False, False, False, False, False, False, False, False, False, False, False, False, False, False, False, False, False, False, False, False, False, False, False, False, False, False, False, False, False, False, False, False, False, False, False, False, False, False, False, False, False, False, False, False, False, False, False, False, False, False, False, False, False, False, False, False, False, False]\n",
      "[]\n"
     ]
    }
   ],
   "source": [
    "dtype_select = ['int64','float64']\n",
    "print(app_train.dtypes.head())\n",
    "numeric_columns = list(app_train.columns[list(app_train.dtypes.isin(dtype_select))])\n",
    "print(list(app_train.dtypes.isin(dtype_select)))\n",
    "print(numeric_columns)"
   ]
  },
  {
   "cell_type": "code",
   "execution_count": 121,
   "metadata": {
    "collapsed": false,
    "scrolled": true
   },
   "outputs": [
    {
     "name": "stdout",
     "output_type": "stream",
     "text": [
      "106\n",
      "Numbers of remain columns73\n",
      "SK_ID_CURR\n"
     ]
    },
    {
     "data": {
      "image/png": "[encoded data removed]",
      "text/plain": [
       "<matplotlib.figure.Figure at 0x1f00cd13fd0>"
      ]
     },
     "metadata": {},
     "output_type": "display_data"
    },
    {
     "name": "stdout",
     "output_type": "stream",
     "text": [
      "100303    1\n",
      "131861    1\n",
      "158488    1\n",
      "156441    1\n",
      "160539    1\n",
      "150300    1\n",
      "148253    1\n",
      "154398    1\n",
      "152351    1\n",
      "238369    1\n",
      "244514    1\n",
      "242467    1\n",
      "230181    1\n",
      "236326    1\n",
      "234279    1\n",
      "254761    1\n",
      "260906    1\n",
      "135959    1\n",
      "133908    1\n",
      "248620    1\n",
      "144147    1\n",
      "176899    1\n",
      "166660    1\n",
      "164613    1\n",
      "170758    1\n",
      "168711    1\n",
      "191240    1\n",
      "189193    1\n",
      "195338    1\n",
      "193291    1\n",
      "         ..\n",
      "151011    1\n",
      "161252    1\n",
      "163301    1\n",
      "157158    1\n",
      "159207    1\n",
      "136680    1\n",
      "138729    1\n",
      "132586    1\n",
      "134635    1\n",
      "144876    1\n",
      "146925    1\n",
      "239070    1\n",
      "245213    1\n",
      "243164    1\n",
      "247250    1\n",
      "210380    1\n",
      "212429    1\n",
      "206286    1\n",
      "208335    1\n",
      "251344    1\n",
      "253393    1\n",
      "249299    1\n",
      "230874    1\n",
      "259540    1\n",
      "261589    1\n",
      "255446    1\n",
      "257495    1\n",
      "234968    1\n",
      "237017    1\n",
      "100401    1\n",
      "Name: SK_ID_CURR, dtype: int64\n",
      "CNT_CHILDREN\n"
     ]
    },
    {
     "data": {
      "image/png": "[encoded data removed]",
      "text/plain": [
       "<matplotlib.figure.Figure at 0x1f009609ba8>"
      ]
     },
     "metadata": {},
     "output_type": "display_data"
    },
    {
     "name": "stdout",
     "output_type": "stream",
     "text": [
      "0     215371\n",
      "1      61119\n",
      "2      26749\n",
      "3       3717\n",
      "4        429\n",
      "5         84\n",
      "6         21\n",
      "7          7\n",
      "14         3\n",
      "19         2\n",
      "12         2\n",
      "10         2\n",
      "9          2\n",
      "8          2\n",
      "11         1\n",
      "Name: CNT_CHILDREN, dtype: int64\n",
      "AMT_INCOME_TOTAL\n"
     ]
    },
    {
     "data": {
      "image/png": "[encoded data removed]",
      "text/plain": [
       "<matplotlib.figure.Figure at 0x1f006cba358>"
      ]
     },
     "metadata": {},
     "output_type": "display_data"
    },
    {
     "name": "stdout",
     "output_type": "stream",
     "text": [
      "135000.0    35750\n",
      "112500.0    31019\n",
      "157500.0    26556\n",
      "180000.0    24719\n",
      "90000.0     22483\n",
      "225000.0    20698\n",
      "202500.0    16341\n",
      "67500.0     11147\n",
      "270000.0    10827\n",
      "81000.0      6001\n",
      "315000.0     5862\n",
      "247500.0     5344\n",
      "126000.0     4668\n",
      "360000.0     4115\n",
      "121500.0     3848\n",
      "99000.0      3633\n",
      "292500.0     3418\n",
      "103500.0     3330\n",
      "76500.0      3146\n",
      "144000.0     3123\n",
      "171000.0     2647\n",
      "450000.0     2435\n",
      "117000.0     2390\n",
      "54000.0      2319\n",
      "72000.0      2187\n",
      "166500.0     2053\n",
      "45000.0      2043\n",
      "108000.0     1946\n",
      "337500.0     1790\n",
      "94500.0      1747\n",
      "            ...  \n",
      "100300.5        1\n",
      "200794.5        1\n",
      "100476.0        1\n",
      "200961.0        1\n",
      "200997.0        1\n",
      "100507.5        1\n",
      "100516.5        1\n",
      "50274.0         1\n",
      "201127.5        1\n",
      "100566.0        1\n",
      "402376.5        1\n",
      "100629.0        1\n",
      "201267.0        1\n",
      "50323.5         1\n",
      "201361.5        1\n",
      "100786.5        1\n",
      "201658.5        1\n",
      "100854.0        1\n",
      "245046.6        1\n",
      "201811.5        1\n",
      "403650.0        1\n",
      "100944.0        1\n",
      "58950.0         1\n",
      "101083.5        1\n",
      "404406.0        1\n",
      "101119.5        1\n",
      "79425.0         1\n",
      "101128.5        1\n",
      "202275.0        1\n",
      "262174.5        1\n",
      "Name: AMT_INCOME_TOTAL, dtype: int64\n",
      "AMT_CREDIT\n"
     ]
    },
    {
     "data": {
      "image/png": "[encoded data removed]",
      "text/plain": [
       "<matplotlib.figure.Figure at 0x1f0091eacc0>"
      ]
     },
     "metadata": {},
     "output_type": "display_data"
    },
    {
     "name": "stdout",
     "output_type": "stream",
     "text": [
      "450000.0     9709\n",
      "675000.0     8877\n",
      "225000.0     8162\n",
      "180000.0     7342\n",
      "270000.0     7241\n",
      "900000.0     6246\n",
      "254700.0     4500\n",
      "545040.0     4437\n",
      "808650.0     4152\n",
      "135000.0     3660\n",
      "755190.0     3524\n",
      "1125000.0    3493\n",
      "521280.0     3175\n",
      "284400.0     3096\n",
      "1078200.0    2856\n",
      "454500.0     2649\n",
      "1288350.0    2613\n",
      "269550.0     2463\n",
      "202500.0     2339\n",
      "781920.0     2328\n",
      "1350000.0    2321\n",
      "239850.0     2084\n",
      "315000.0     2072\n",
      "247500.0     2057\n",
      "640080.0     2041\n",
      "1006920.0    1883\n",
      "540000.0     1821\n",
      "360000.0     1743\n",
      "508495.5     1717\n",
      "592560.0     1688\n",
      "             ... \n",
      "1639431.0       1\n",
      "1242531.0       1\n",
      "1649853.0       1\n",
      "618903.0        1\n",
      "1114011.0       1\n",
      "1650771.0       1\n",
      "207504.0        1\n",
      "414981.0        1\n",
      "829512.0        1\n",
      "829440.0        1\n",
      "2116395.0       1\n",
      "308475.0        1\n",
      "1234741.5       1\n",
      "1234863.0       1\n",
      "192024.0        1\n",
      "1235344.5       1\n",
      "828895.5        1\n",
      "1657669.5       1\n",
      "1407456.0       1\n",
      "828346.5        1\n",
      "828216.0        1\n",
      "828081.0        1\n",
      "3312162.0       1\n",
      "1236393.0       1\n",
      "1654560.0       1\n",
      "827100.0        1\n",
      "413442.0        1\n",
      "1652458.5       1\n",
      "825853.5        1\n",
      "2097058.5       1\n",
      "Name: AMT_CREDIT, dtype: int64\n",
      "AMT_ANNUITY\n",
      "AMT_GOODS_PRICE\n",
      "REGION_POPULATION_RELATIVE\n"
     ]
    },
    {
     "name": "stderr",
     "output_type": "stream",
     "text": [
      "C:\\Anaconda3\\lib\\site-packages\\numpy\\core\\_methods.py:29: RuntimeWarning: invalid value encountered in reduce\n",
      "  return umr_minimum(a, axis, None, out, keepdims)\n",
      "C:\\Anaconda3\\lib\\site-packages\\numpy\\core\\_methods.py:26: RuntimeWarning: invalid value encountered in reduce\n",
      "  return umr_maximum(a, axis, None, out, keepdims)\n"
     ]
    },
    {
     "data": {
      "image/png": "[encoded data removed]",
      "text/plain": [
       "<matplotlib.figure.Figure at 0x1f009467dd8>"
      ]
     },
     "metadata": {},
     "output_type": "display_data"
    },
    {
     "name": "stdout",
     "output_type": "stream",
     "text": [
      "0.035792    16408\n",
      "0.046220    13442\n",
      "0.030755    12163\n",
      "0.025164    11950\n",
      "0.026392    11601\n",
      "0.031329    11321\n",
      "0.028663    11157\n",
      "0.019101     8694\n",
      "0.072508     8412\n",
      "0.020713     8066\n",
      "0.018850     7668\n",
      "0.020246     7178\n",
      "0.018634     7038\n",
      "0.022625     6943\n",
      "0.015221     6824\n",
      "0.032561     6636\n",
      "0.024610     6404\n",
      "0.019689     6172\n",
      "0.018029     6167\n",
      "0.018801     6108\n",
      "0.018209     6052\n",
      "0.014520     4785\n",
      "0.016612     4408\n",
      "0.007020     4105\n",
      "0.022800     3807\n",
      "0.010032     3570\n",
      "0.010006     3563\n",
      "0.014464     3422\n",
      "0.004960     3300\n",
      "0.011703     3252\n",
      "            ...  \n",
      "0.006008     1796\n",
      "0.003069     1783\n",
      "0.008575     1763\n",
      "0.008474     1740\n",
      "0.007274     1724\n",
      "0.007114     1684\n",
      "0.006305     1672\n",
      "0.008068     1668\n",
      "0.008866     1654\n",
      "0.006671     1653\n",
      "0.002042     1642\n",
      "0.003813     1616\n",
      "0.005084     1482\n",
      "0.006296     1225\n",
      "0.005313     1218\n",
      "0.003818     1212\n",
      "0.003122     1147\n",
      "0.006233     1087\n",
      "0.005002     1068\n",
      "0.002134     1051\n",
      "0.004849     1038\n",
      "0.005144      967\n",
      "0.002506      944\n",
      "0.003541      627\n",
      "0.001276      558\n",
      "0.001417      467\n",
      "0.001333      235\n",
      "0.000533       39\n",
      "0.000938       28\n",
      "0.000290        2\n",
      "Name: REGION_POPULATION_RELATIVE, dtype: int64\n",
      "DAYS_BIRTH\n"
     ]
    },
    {
     "data": {
      "image/png": "[encoded data removed]",
      "text/plain": [
       "<matplotlib.figure.Figure at 0x1f0095cf6d8>"
      ]
     },
     "metadata": {},
     "output_type": "display_data"
    },
    {
     "name": "stdout",
     "output_type": "stream",
     "text": [
      "-13749    43\n",
      "-13481    42\n",
      "-18248    41\n",
      "-10020    41\n",
      "-15771    40\n",
      "-10292    40\n",
      "-14395    39\n",
      "-14267    39\n",
      "-13263    39\n",
      "-11664    39\n",
      "-13584    38\n",
      "-15565    38\n",
      "-13788    38\n",
      "-13480    38\n",
      "-15042    38\n",
      "-13634    38\n",
      "-13891    38\n",
      "-14791    38\n",
      "-13217    37\n",
      "-15450    37\n",
      "-10136    37\n",
      "-20074    37\n",
      "-15048    37\n",
      "-16690    37\n",
      "-10107    37\n",
      "-15563    37\n",
      "-14790    37\n",
      "-14767    37\n",
      "-10192    37\n",
      "-14890    37\n",
      "          ..\n",
      "-24973     1\n",
      "-25229     1\n",
      "-25055     1\n",
      "-25091     1\n",
      "-25026     1\n",
      "-25063     1\n",
      "-25030     1\n",
      "-24525     1\n",
      "-25143     1\n",
      "-25036     1\n",
      "-7827      1\n",
      "-16436     1\n",
      "-7679      1\n",
      "-8000      1\n",
      "-25029     1\n",
      "-24964     1\n",
      "-7954      1\n",
      "-24862     1\n",
      "-7489      1\n",
      "-25118     1\n",
      "-24962     1\n",
      "-25139     1\n",
      "-7997      1\n",
      "-16440     1\n",
      "-24711     1\n",
      "-25032     1\n",
      "-7956      1\n",
      "-8001      1\n",
      "-7861      1\n",
      "-24894     1\n",
      "Name: DAYS_BIRTH, dtype: int64\n",
      "DAYS_EMPLOYED\n"
     ]
    },
    {
     "data": {
      "image/png": "[encoded data removed]",
      "text/plain": [
       "<matplotlib.figure.Figure at 0x1f006de5860>"
      ]
     },
     "metadata": {},
     "output_type": "display_data"
    },
    {
     "name": "stdout",
     "output_type": "stream",
     "text": [
      " 365243    55374\n",
      "-200         156\n",
      "-224         152\n",
      "-199         151\n",
      "-230         151\n",
      "-212         150\n",
      "-229         143\n",
      "-384         143\n",
      "-231         140\n",
      "-215         138\n",
      "-207         138\n",
      "-188         137\n",
      "-216         137\n",
      "-116         136\n",
      "-196         136\n",
      "-222         135\n",
      "-193         134\n",
      "-195         133\n",
      "-214         132\n",
      "-213         131\n",
      "-254         131\n",
      "-381         130\n",
      "-201         130\n",
      "-233         128\n",
      "-185         128\n",
      "-237         127\n",
      "-194         127\n",
      "-184         126\n",
      "-234         126\n",
      "-209         125\n",
      "           ...  \n",
      "-12768         1\n",
      "-10604         1\n",
      "-10857         1\n",
      "-8810          1\n",
      "-14955         1\n",
      "-11113         1\n",
      "-11369         1\n",
      "-13420         1\n",
      "-10346         1\n",
      "-10860         1\n",
      "-12649         1\n",
      "-10358         1\n",
      "-12650         1\n",
      "-10870         1\n",
      "-12919         1\n",
      "-14968         1\n",
      "-13175         1\n",
      "-11382         1\n",
      "-10101         1\n",
      "-12150         1\n",
      "-10603         1\n",
      "-12393         1\n",
      "-9694          1\n",
      "-11741         1\n",
      "-13162         1\n",
      "-11115         1\n",
      "-11371         1\n",
      "-11883         1\n",
      "-13536         1\n",
      "-8795          1\n",
      "Name: DAYS_EMPLOYED, dtype: int64\n",
      "DAYS_REGISTRATION\n"
     ]
    },
    {
     "data": {
      "image/png": "[encoded data removed]",
      "text/plain": [
       "<matplotlib.figure.Figure at 0x1f006e2ecc0>"
      ]
     },
     "metadata": {},
     "output_type": "display_data"
    },
    {
     "name": "stdout",
     "output_type": "stream",
     "text": [
      "-1.0        113\n",
      "-7.0         98\n",
      "-6.0         96\n",
      "-2.0         92\n",
      "-4.0         92\n",
      "-5.0         86\n",
      "-9.0         84\n",
      "-3.0         84\n",
      " 0.0         80\n",
      "-21.0        80\n",
      "-14.0        80\n",
      "-10.0        79\n",
      "-11.0        67\n",
      "-511.0       66\n",
      "-15.0        66\n",
      "-8.0         65\n",
      "-56.0        65\n",
      "-23.0        64\n",
      "-41.0        63\n",
      "-621.0       63\n",
      "-20.0        62\n",
      "-19.0        62\n",
      "-13.0        62\n",
      "-34.0        62\n",
      "-69.0        62\n",
      "-70.0        62\n",
      "-29.0        61\n",
      "-812.0       61\n",
      "-742.0       61\n",
      "-679.0       61\n",
      "           ... \n",
      "-16782.0      1\n",
      "-15846.0      1\n",
      "-15275.0      1\n",
      "-14606.0      1\n",
      "-14963.0      1\n",
      "-19660.0      1\n",
      "-16528.0      1\n",
      "-17330.0      1\n",
      "-16296.0      1\n",
      "-17964.0      1\n",
      "-14374.0      1\n",
      "-14953.0      1\n",
      "-14941.0      1\n",
      "-16098.0      1\n",
      "-14943.0      1\n",
      "-15292.0      1\n",
      "-16129.0      1\n",
      "-19488.0      1\n",
      "-14876.0      1\n",
      "-17212.0      1\n",
      "-15809.0      1\n",
      "-14372.0      1\n",
      "-15542.0      1\n",
      "-15285.0      1\n",
      "-15811.0      1\n",
      "-12446.0      1\n",
      "-17298.0      1\n",
      "-14676.0      1\n",
      "-15817.0      1\n",
      "-13267.0      1\n",
      "Name: DAYS_REGISTRATION, dtype: int64\n",
      "DAYS_ID_PUBLISH\n"
     ]
    },
    {
     "data": {
      "image/png": "[encoded data removed]",
      "text/plain": [
       "<matplotlib.figure.Figure at 0x1f00cd0a940>"
      ]
     },
     "metadata": {},
     "output_type": "display_data"
    },
    {
     "name": "stdout",
     "output_type": "stream",
     "text": [
      "-4053    169\n",
      "-4095    162\n",
      "-4046    161\n",
      "-4417    159\n",
      "-4256    158\n",
      "-4151    157\n",
      "-4032    157\n",
      "-4200    156\n",
      "-4214    155\n",
      "-4171    155\n",
      "-4285    154\n",
      "-4270    154\n",
      "-4096    154\n",
      "-4047    154\n",
      "-4263    153\n",
      "-4375    152\n",
      "-4291    151\n",
      "-4074    150\n",
      "-4220    150\n",
      "-4144    150\n",
      "-4166    149\n",
      "-4319    148\n",
      "-4389    148\n",
      "-4320    148\n",
      "-4130    148\n",
      "-4312    147\n",
      "-4081    147\n",
      "-4221    147\n",
      "-4264    146\n",
      "-4073    146\n",
      "        ... \n",
      "-5826      1\n",
      "-6337      1\n",
      "-5960      1\n",
      "-6274      1\n",
      "-6162      1\n",
      "-6201      1\n",
      "-5868      1\n",
      "-6220      1\n",
      "-5652      1\n",
      "-6016      1\n",
      "-6086      1\n",
      "-6015      1\n",
      "-5862      1\n",
      "-6135      1\n",
      "-6028      1\n",
      "-5879      1\n",
      "-6211      1\n",
      "-5915      1\n",
      "-6212      1\n",
      "-5955      1\n",
      "-6074      1\n",
      "-6029      1\n",
      "-5913      1\n",
      "-6206      1\n",
      "-6117      1\n",
      "-5696      1\n",
      "-6073      1\n",
      "-6076      1\n",
      "-6176      1\n",
      "-6189      1\n",
      "Name: DAYS_ID_PUBLISH, dtype: int64\n",
      "OWN_CAR_AGE\n",
      "CNT_FAM_MEMBERS\n",
      "REGION_RATING_CLIENT\n"
     ]
    },
    {
     "data": {
      "image/png": "[encoded data removed]",
      "text/plain": [
       "<matplotlib.figure.Figure at 0x1f007143f98>"
      ]
     },
     "metadata": {},
     "output_type": "display_data"
    },
    {
     "name": "stdout",
     "output_type": "stream",
     "text": [
      "2    226984\n",
      "3     48330\n",
      "1     32197\n",
      "Name: REGION_RATING_CLIENT, dtype: int64\n",
      "REGION_RATING_CLIENT_W_CITY\n"
     ]
    },
    {
     "data": {
      "image/png": "[encoded data removed]",
      "text/plain": [
       "<matplotlib.figure.Figure at 0x1f0092b8ac8>"
      ]
     },
     "metadata": {},
     "output_type": "display_data"
    },
    {
     "name": "stdout",
     "output_type": "stream",
     "text": [
      "2    229484\n",
      "3     43860\n",
      "1     34167\n",
      "Name: REGION_RATING_CLIENT_W_CITY, dtype: int64\n",
      "HOUR_APPR_PROCESS_START\n"
     ]
    },
    {
     "data": {
      "image/png": "[encoded data removed]",
      "text/plain": [
       "<matplotlib.figure.Figure at 0x1f0092f4978>"
      ]
     },
     "metadata": {},
     "output_type": "display_data"
    },
    {
     "name": "stdout",
     "output_type": "stream",
     "text": [
      "10    37722\n",
      "11    37229\n",
      "12    34233\n",
      "13    30959\n",
      "14    27682\n",
      "9     27384\n",
      "15    24839\n",
      "16    20385\n",
      "8     15127\n",
      "17    14900\n",
      "7      9131\n",
      "18     9049\n",
      "6      5842\n",
      "19     3848\n",
      "5      3638\n",
      "4      2090\n",
      "3      1230\n",
      "20     1196\n",
      "21      405\n",
      "2       305\n",
      "22      150\n",
      "1        86\n",
      "23       41\n",
      "0        40\n",
      "Name: HOUR_APPR_PROCESS_START, dtype: int64\n",
      "EXT_SOURCE_1\n",
      "EXT_SOURCE_2\n",
      "EXT_SOURCE_3\n",
      "APARTMENTS_AVG\n",
      "BASEMENTAREA_AVG\n",
      "YEARS_BEGINEXPLUATATION_AVG\n",
      "YEARS_BUILD_AVG\n",
      "COMMONAREA_AVG\n",
      "ELEVATORS_AVG\n",
      "ENTRANCES_AVG\n",
      "FLOORSMAX_AVG\n",
      "FLOORSMIN_AVG\n",
      "LANDAREA_AVG\n",
      "LIVINGAPARTMENTS_AVG\n",
      "LIVINGAREA_AVG\n",
      "NONLIVINGAPARTMENTS_AVG\n",
      "NONLIVINGAREA_AVG\n",
      "APARTMENTS_MODE\n",
      "BASEMENTAREA_MODE\n",
      "YEARS_BEGINEXPLUATATION_MODE\n",
      "YEARS_BUILD_MODE\n",
      "COMMONAREA_MODE\n",
      "ELEVATORS_MODE\n",
      "ENTRANCES_MODE\n",
      "FLOORSMAX_MODE\n",
      "FLOORSMIN_MODE\n",
      "LANDAREA_MODE\n",
      "LIVINGAPARTMENTS_MODE\n",
      "LIVINGAREA_MODE\n",
      "NONLIVINGAPARTMENTS_MODE\n",
      "NONLIVINGAREA_MODE\n",
      "APARTMENTS_MEDI\n",
      "BASEMENTAREA_MEDI\n",
      "YEARS_BEGINEXPLUATATION_MEDI\n",
      "YEARS_BUILD_MEDI\n",
      "COMMONAREA_MEDI\n",
      "ELEVATORS_MEDI\n",
      "ENTRANCES_MEDI\n",
      "FLOORSMAX_MEDI\n",
      "FLOORSMIN_MEDI\n",
      "LANDAREA_MEDI\n",
      "LIVINGAPARTMENTS_MEDI\n",
      "LIVINGAREA_MEDI\n",
      "NONLIVINGAPARTMENTS_MEDI\n",
      "NONLIVINGAREA_MEDI\n",
      "TOTALAREA_MODE\n",
      "OBS_30_CNT_SOCIAL_CIRCLE\n",
      "DEF_30_CNT_SOCIAL_CIRCLE\n",
      "OBS_60_CNT_SOCIAL_CIRCLE\n",
      "DEF_60_CNT_SOCIAL_CIRCLE\n",
      "DAYS_LAST_PHONE_CHANGE\n",
      "AMT_REQ_CREDIT_BUREAU_HOUR\n",
      "AMT_REQ_CREDIT_BUREAU_DAY\n",
      "AMT_REQ_CREDIT_BUREAU_WEEK\n",
      "AMT_REQ_CREDIT_BUREAU_MON\n",
      "AMT_REQ_CREDIT_BUREAU_QRT\n",
      "AMT_REQ_CREDIT_BUREAU_YEAR\n"
     ]
    },
    {
     "data": {
      "image/png": "[encoded data removed]",
      "text/plain": [
       "<matplotlib.figure.Figure at 0x1f007138cf8>"
      ]
     },
     "metadata": {},
     "output_type": "display_data"
    }
   ],
   "source": [
    "# 先篩選數值型的欄位\n",
    "numeric_columns = []\n",
    "for dtype, feature in zip(app_train.dtypes, app_train.columns):\n",
    "    if dtype == 'float64':\n",
    "        numeric_columns.append(feature)\n",
    "    elif dtype == 'int64':\n",
    "        numeric_columns.append(feature)\n",
    "print(len(numeric_columns))\n",
    "#dtype_select = []\n",
    "# 再把只有 2 值 (通常是 0,1) 的欄位去掉\n",
    "numeric_columns = list(app_train[numeric_columns].columns[list(app_train[numeric_columns].apply(lambda x:len(x.unique())!=2 ))])\n",
    "#print(numeric_columns)\n",
    "#print(len(numeric_columns))\n",
    "print(\"Numbers of remain columns\" + str(len(numeric_columns)))\n",
    "\n",
    "errorCol = []\n",
    "# 檢視這些欄位的數值範圍\n",
    "for col in numeric_columns:\n",
    "    #print(col)\n",
    "    #x = str(col)\n",
    "    #print(app_train[col].describe())\n",
    "    try:\n",
    "        print(col)\n",
    "        plt.hist(app_train[col])\n",
    "        plt.show()\n",
    "        print(app_train[col].value_counts())\n",
    "    except:\n",
    "        errorCol.append(col)"
   ]
  },
  {
   "cell_type": "code",
   "execution_count": null,
   "metadata": {
    "collapsed": true
   },
   "outputs": [],
   "source": [
    "# 從上面的圖檢查的結果，至少這三個欄位好像有點可疑\n",
    "\n",
    "# AMT_INCOME_TOTAL\n",
    "# REGION_POPULATION_RELATIVE\n",
    "# OBS_60_CNT_SOCIAL_CIRCLE"
   ]
  },
  {
   "cell_type": "markdown",
   "metadata": {},
   "source": [
    "### Hints: Emprical Cumulative Density Plot, [ECDF](https://zh.wikipedia.org/wiki/%E7%BB%8F%E9%AA%8C%E5%88%86%E5%B8%83%E5%87%BD%E6%95%B0), [ECDF with Python](https://stackoverflow.com/questions/14006520/ecdf-in-python-without-step-function)"
   ]
  },
  {
   "cell_type": "code",
   "execution_count": 131,
   "metadata": {
    "collapsed": false
   },
   "outputs": [
    {
     "name": "stdout",
     "output_type": "stream",
     "text": [
      "count    3.075110e+05\n",
      "mean     1.687979e+05\n",
      "std      2.371231e+05\n",
      "min      2.565000e+04\n",
      "25%      1.125000e+05\n",
      "50%      1.471500e+05\n",
      "75%      2.025000e+05\n",
      "max      1.170000e+08\n",
      "Name: AMT_INCOME_TOTAL, dtype: float64\n"
     ]
    },
    {
     "data": {
      "image/png": "[encoded data removed]",
      "text/plain": [
       "<matplotlib.figure.Figure at 0x1f0095f6320>"
      ]
     },
     "metadata": {},
     "output_type": "display_data"
    },
    {
     "data": {
      "image/png": "[encoded data removed]",
      "text/plain": [
       "<matplotlib.figure.Figure at 0x1f00718c4e0>"
      ]
     },
     "metadata": {},
     "output_type": "display_data"
    }
   ],
   "source": [
    "# 最大值離平均與中位數很遠\n",
    "print(app_train['AMT_INCOME_TOTAL'].describe())\n",
    "\n",
    "# 繪製 Empirical Cumulative Density Plot (ECDF)\n",
    "\"\"\"\n",
    "YOUR CODE HERE\n",
    "\"\"\"\n",
    "#ECDF是透過計算出相異數個數，並排序，再利用累計的相加數來算出\n",
    "#找到的網址https://medium.com/@search.psop/%E7%AC%AC%E4%BA%8C%E5%B1%86%E6%A9%9F%E5%99%A8%E5%AD%B8%E7%BF%92-%E7%99%BE%E6%97%A5%E9%A6%AC%E6%8B%89%E6%9D%BEday6-a5615f48e06e\n",
    "cdf = app_train['AMT_INCOME_TOTAL'].value_counts().sort_index().cumsum()\n",
    "\n",
    "plt.plot(list(cdf.index), cdf/cdf.max())\n",
    "plt.xlabel('Value')\n",
    "plt.ylabel('ECDF')\n",
    "plt.xlim([cdf.index.min(), cdf.index.max() * 1.05]) # 限制顯示圖片的範圍\n",
    "plt.ylim([-0.05,1.05]) # 限制顯示圖片的範圍\n",
    "\n",
    "plt.show()\n",
    "\n",
    "# 改變 y 軸的 Scale, 讓我們可以正常檢視 ECDF\n",
    "plt.plot(np.log(list(cdf.index)), cdf/cdf.max())\n",
    "plt.xlabel('Value (log-scale)')\n",
    "plt.ylabel('ECDF')\n",
    "\n",
    "plt.ylim([-0.05,1.05]) # 限制顯示圖片的範圍\n",
    "\n",
    "plt.show()"
   ]
  },
  {
   "cell_type": "markdown",
   "metadata": {},
   "source": [
    "## 補充：Normal dist 的 ECDF\n",
    "![ecdf_normal](https://au.mathworks.com/help/examples/stats/win64/PlotEmpiricalCdfAndCompareWithSamplingDistributionExample_01.png)"
   ]
  },
  {
   "cell_type": "code",
   "execution_count": 132,
   "metadata": {
    "collapsed": false
   },
   "outputs": [
    {
     "name": "stdout",
     "output_type": "stream",
     "text": [
      "count    307511.000000\n",
      "mean          0.020868\n",
      "std           0.013831\n",
      "min           0.000290\n",
      "25%           0.010006\n",
      "50%           0.018850\n",
      "75%           0.028663\n",
      "max           0.072508\n",
      "Name: REGION_POPULATION_RELATIVE, dtype: float64\n"
     ]
    },
    {
     "data": {
      "image/png": "[encoded data removed]",
      "text/plain": [
       "<matplotlib.figure.Figure at 0x1f006f15cc0>"
      ]
     },
     "metadata": {},
     "output_type": "display_data"
    },
    {
     "data": {
      "image/png": "[encoded data removed]",
      "text/plain": [
       "<matplotlib.figure.Figure at 0x1f006db7a90>"
      ]
     },
     "metadata": {},
     "output_type": "display_data"
    },
    {
     "data": {
      "text/plain": [
       "0.035792    16408\n",
       "0.046220    13442\n",
       "0.030755    12163\n",
       "0.025164    11950\n",
       "0.026392    11601\n",
       "0.031329    11321\n",
       "0.028663    11157\n",
       "0.019101     8694\n",
       "0.072508     8412\n",
       "0.020713     8066\n",
       "0.018850     7668\n",
       "0.020246     7178\n",
       "0.018634     7038\n",
       "0.022625     6943\n",
       "0.015221     6824\n",
       "0.032561     6636\n",
       "0.024610     6404\n",
       "0.019689     6172\n",
       "0.018029     6167\n",
       "0.018801     6108\n",
       "0.018209     6052\n",
       "0.014520     4785\n",
       "0.016612     4408\n",
       "0.007020     4105\n",
       "0.022800     3807\n",
       "0.010032     3570\n",
       "0.010006     3563\n",
       "0.014464     3422\n",
       "0.004960     3300\n",
       "0.011703     3252\n",
       "            ...  \n",
       "0.006008     1796\n",
       "0.003069     1783\n",
       "0.008575     1763\n",
       "0.008474     1740\n",
       "0.007274     1724\n",
       "0.007114     1684\n",
       "0.006305     1672\n",
       "0.008068     1668\n",
       "0.008866     1654\n",
       "0.006671     1653\n",
       "0.002042     1642\n",
       "0.003813     1616\n",
       "0.005084     1482\n",
       "0.006296     1225\n",
       "0.005313     1218\n",
       "0.003818     1212\n",
       "0.003122     1147\n",
       "0.006233     1087\n",
       "0.005002     1068\n",
       "0.002134     1051\n",
       "0.004849     1038\n",
       "0.005144      967\n",
       "0.002506      944\n",
       "0.003541      627\n",
       "0.001276      558\n",
       "0.001417      467\n",
       "0.001333      235\n",
       "0.000533       39\n",
       "0.000938       28\n",
       "0.000290        2\n",
       "Name: REGION_POPULATION_RELATIVE, dtype: int64"
      ]
     },
     "execution_count": 132,
     "metadata": {},
     "output_type": "execute_result"
    }
   ],
   "source": [
    "# 最大值落在分布之外\n",
    "print(app_train['REGION_POPULATION_RELATIVE'].describe())\n",
    "\n",
    "# 繪製 Empirical Cumulative Density Plot (ECDF)\n",
    "\"\"\"\n",
    "Your Code Here\n",
    "\"\"\"\n",
    "cdf = app_train['REGION_POPULATION_RELATIVE'].value_counts().sort_index().cumsum()\n",
    "\n",
    "\n",
    "plt.plot(list(cdf.index), cdf/cdf.max())\n",
    "plt.xlabel('Value')\n",
    "plt.ylabel('ECDF')\n",
    "plt.ylim([-0.05,1.05]) # 限制顯示圖片的範圍\n",
    "plt.show()\n",
    "\n",
    "app_train['REGION_POPULATION_RELATIVE'].hist()\n",
    "plt.show()\n",
    "\n",
    "app_train['REGION_POPULATION_RELATIVE'].value_counts()\n",
    "\n",
    "# 就以這個欄位來說，雖然有資料掉在分布以外，也不算異常，僅代表這間公司在稍微熱鬧的地區有的據點較少，\n",
    "# 導致 region population relative 在少的部分較為密集，但在大的部分較為疏漏"
   ]
  },
  {
   "cell_type": "code",
   "execution_count": 134,
   "metadata": {
    "collapsed": false,
    "scrolled": true
   },
   "outputs": [
    {
     "name": "stdout",
     "output_type": "stream",
     "text": [
      "count    306490.000000\n",
      "mean          1.405292\n",
      "std           2.379803\n",
      "min           0.000000\n",
      "25%           0.000000\n",
      "50%           0.000000\n",
      "75%           2.000000\n",
      "max         344.000000\n",
      "Name: OBS_60_CNT_SOCIAL_CIRCLE, dtype: float64\n"
     ]
    },
    {
     "data": {
      "image/png": "[encoded data removed]",
      "text/plain": [
       "<matplotlib.figure.Figure at 0x1f00cd05898>"
      ]
     },
     "metadata": {},
     "output_type": "display_data"
    },
    {
     "data": {
      "image/png": "[encoded data removed]",
      "text/plain": [
       "<matplotlib.figure.Figure at 0x1f006f15e10>"
      ]
     },
     "metadata": {},
     "output_type": "display_data"
    },
    {
     "name": "stdout",
     "output_type": "stream",
     "text": [
      "344.0         1\n",
      "47.0          1\n",
      "30.0          1\n",
      "29.0          2\n",
      "28.0          1\n",
      "27.0          5\n",
      "26.0          1\n",
      "25.0         11\n",
      "24.0         12\n",
      "23.0         13\n",
      "22.0         20\n",
      "21.0         28\n",
      "20.0         30\n",
      "19.0         44\n",
      "18.0         49\n",
      "17.0         73\n",
      "16.0        137\n",
      "15.0        166\n",
      "14.0        238\n",
      "13.0        401\n",
      "12.0        620\n",
      "11.0        837\n",
      "10.0       1335\n",
      "9.0        1959\n",
      "8.0        2886\n",
      "7.0        4344\n",
      "6.0        6349\n",
      "5.0        9463\n",
      "4.0       13946\n",
      "3.0       20215\n",
      "2.0       29766\n",
      "1.0       48870\n",
      "0.0      164666\n",
      "Name: OBS_60_CNT_SOCIAL_CIRCLE, dtype: int64\n"
     ]
    }
   ],
   "source": [
    "# 最大值落在分布之外\n",
    "print(app_train['OBS_60_CNT_SOCIAL_CIRCLE'].describe())\n",
    "\n",
    "# 繪製 Empirical Cumulative Density Plot (ECDF)\n",
    "\n",
    "cdf = app_train['OBS_60_CNT_SOCIAL_CIRCLE'].value_counts().sort_index().cumsum()\n",
    "\n",
    "\n",
    "plt.plot(list(cdf.index), cdf/cdf.max())\n",
    "plt.xlabel('Value')\n",
    "plt.ylabel('ECDF')\n",
    "plt.xlim([cdf.index.min() * 0.95, cdf.index.max() * 1.05])\n",
    "plt.ylim([-0.05,1.05]) # 限制顯示圖片的範圍\n",
    "plt.show()\n",
    "app_train['OBS_60_CNT_SOCIAL_CIRCLE'].hist()\n",
    "plt.show()\n",
    "print(app_train['OBS_60_CNT_SOCIAL_CIRCLE'].value_counts().sort_index(ascending = False))"
   ]
  },
  {
   "cell_type": "markdown",
   "metadata": {},
   "source": [
    "## 注意：當 histogram 畫出上面這種圖 (只出現一條，但是 x 軸延伸很長導致右邊有一大片空白時，代表右邊有值但是數量稀少。這時可以考慮用 value_counts 去找到這些數值"
   ]
  },
  {
   "cell_type": "code",
   "execution_count": null,
   "metadata": {
    "collapsed": true
   },
   "outputs": [],
   "source": [
    "app_train.loc[loc_a, loc_b].hist()\n",
    "plt.show()"
   ]
  },
  {
   "cell_type": "code",
   "execution_count": 137,
   "metadata": {
    "collapsed": false
   },
   "outputs": [
    {
     "data": {
      "image/png": "[encoded data removed]",
      "text/plain": [
       "<matplotlib.figure.Figure at 0x1f00bbc5d30>"
      ]
     },
     "metadata": {},
     "output_type": "display_data"
    }
   ],
   "source": [
    "# 把一些極端值暫時去掉，在繪製一次 Histogram\n",
    "# 選擇 OBS_60_CNT_SOCIAL_CIRCLE 小於 20 的資料點繪製\n",
    "\"\"\"\n",
    "Your Code Here\n",
    "\"\"\"\n",
    "loc_a = app_train[\"OBS_60_CNT_SOCIAL_CIRCLE\"] < 20\n",
    "loc_b = 'OBS_60_CNT_SOCIAL_CIRCLE'\n",
    "\n",
    "app_train.loc[loc_a, loc_b].hist()\n",
    "plt.show()"
   ]
  },
  {
   "cell_type": "code",
   "execution_count": null,
   "metadata": {
    "collapsed": true
   },
   "outputs": [],
   "source": []
  }
 ],
 "metadata": {
  "anaconda-cloud": {},
  "kernelspec": {
   "display_name": "Python 3",
   "language": "python",
   "name": "python3"
  },
  "language_info": {
   "codemirror_mode": {
    "name": "ipython",
    "version": 3
   },
   "file_extension": ".py",
   "mimetype": "text/x-python",
   "name": "python",
   "nbconvert_exporter": "python",
   "pygments_lexer": "ipython3",
   "version": "3.6.0"
  }
 },
 "nbformat": 4,
 "nbformat_minor": 1
}
